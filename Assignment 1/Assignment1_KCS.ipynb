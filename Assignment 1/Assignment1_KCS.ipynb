{
 "cells": [
  {
   "cell_type": "markdown",
   "source": [
    "## Assignment 1 \n",
    "CS 6180: Clustering\n",
    "\n",
    "Kendall Stauffer  \n",
    "u0688677"
   ],
   "metadata": {
    "collapsed": false
   }
  },
  {
   "cell_type": "markdown",
   "source": [
    "### Problem 1\n",
    "Implement the K-Center (aka FurthestPoint) algorithm using euclidean distance as the distance function. Using your K-Center implementation, evaluate data1.csvPreview the document with 3 centers and then try with 4 centers. Next assign each point to its nearest center (using euclidean distance as the distance function) and generate a scatter plot where each cluster is represented by a different color. Also, represent the cluster centers as solid black.\n",
    "\n",
    "Using this same data set run K-Means using 3 centers and produce similar plots as described previously. Compare and contrast the results with K-Centers, what are the differences you are seeing. Feel free to use an out-of-the-box K-Means (eg. sklearn.cluster.KMeans). Finally produce two cost function plots with # centers along the x-axis and cost of that clustering along the y-axis. Do this for both algorithms (K-Center and K-Means)."
   ],
   "metadata": {
    "collapsed": false
   }
  },
  {
   "cell_type": "markdown",
   "source": [
    "### Problem 1 Answer"
   ],
   "metadata": {
    "collapsed": false
   }
  },
  {
   "cell_type": "code",
   "execution_count": 16,
   "outputs": [
    {
     "name": "stdout",
     "text": [
      "   index          x          y  cluster  \\\n",
      "0      0   7.416767   8.246789      1.0   \n",
      "1      1   2.214508  12.982810      1.0   \n",
      "2      2  10.924226   6.348020      1.0   \n",
      "3      3 -17.435013   6.078512      2.0   \n",
      "4      4 -15.932323  10.871121      2.0   \n",
      "\n",
      "                                      coord  \n",
      "0    (7.416766579958915, 8.246788577183402)  \n",
      "1  (2.2145082451651312, 12.982809598422818)  \n",
      "2     (10.924226392403678, 6.3480195080603)  \n",
      "3  (-17.435013280466105, 6.078511669115162)  \n",
      "4  (-15.93232253877435, 10.871121223328554)  \n",
      "(600, 5)\n"
     ],
     "output_type": "stream"
    }
   ],
   "source": [
    "# importing libraries\n",
    "import numpy as np\n",
    "import pandas as pd\n",
    "from scipy.spatial import distance\n",
    "\n",
    "#importing data for question 1\n",
    "data1 = pd.read_csv('./Data/data1.csv')\n",
    "data1['coord'] = list(zip(data1.x, data1.y))\n",
    "\n",
    "print(data1.head())\n",
    "print(data1.shape)"
   ],
   "metadata": {
    "collapsed": false,
    "pycharm": {
     "name": "#%%\n",
     "is_executing": false
    }
   }
  },
  {
   "cell_type": "code",
   "execution_count": 45,
   "outputs": [
    {
     "name": "stdout",
     "text": [
      "(-13.111631579546447, 4.674527083786799)\n",
      "(7.416766579958915, 8.246788577183402)\n"
     ],
     "output_type": "stream"
    },
    {
     "data": {
      "text/plain": "20.836894758393996"
     },
     "metadata": {},
     "output_type": "execute_result",
     "execution_count": 45
    }
   ],
   "source": [
    "first_cc = data1.sample(n = 1)['coord'].values[0]\n",
    "print(first_cc)\n",
    "print( data1.loc[0, 'coord'])\n",
    "distance.euclidean(first_cc,  data1.loc[0, 'coord'])\n"
   ],
   "metadata": {
    "collapsed": false,
    "pycharm": {
     "name": "#%%\n",
     "is_executing": false
    }
   }
  },
  {
   "cell_type": "code",
   "execution_count": 69,
   "outputs": [
    {
     "name": "stdout",
     "text": [
      "0\n",
      "[(4.716145348945082, 3.7478779811470084)]\n",
      "1\n",
      "[(4.716145348945082, 3.7478779811470084), (40.0, 40.0)]\n",
      "2\n",
      "[(4.716145348945082, 3.7478779811470084), (40.0, 40.0), (-18.063684750018233, -2.5755597409033517)]\n",
      "3\n",
      "[(4.716145348945082, 3.7478779811470084), (40.0, 40.0), (-18.063684750018233, -2.5755597409033517), (6.223589024916421, 9.95600993649861)]\n",
      "5\n",
      "   index          x          y  cluster  \\\n",
      "0      0   7.416767   8.246789      1.0   \n",
      "1      1   2.214508  12.982810      1.0   \n",
      "2      2  10.924226   6.348020      1.0   \n",
      "3      3 -17.435013   6.078512      2.0   \n",
      "4      4 -15.932323  10.871121      2.0   \n",
      "\n",
      "                                      coord  cluster0_dist  cluster1_dist  \\\n",
      "0    (7.416766579958915, 8.246788577183402)       5.247242      45.496522   \n",
      "1  (2.2145082451651312, 12.982809598422818)       9.567766      46.450748   \n",
      "2     (10.924226392403678, 6.3480195080603)       6.730602      44.473098   \n",
      "3  (-17.435013280466105, 6.078511669115162)      22.273430      66.704184   \n",
      "4  (-15.93232253877435, 10.871121223328554)      21.842615      63.062796   \n",
      "\n",
      "   cluster2_dist  cluster3_dist  \n",
      "0      27.683508       2.084493  \n",
      "1      25.559107       5.023370  \n",
      "2      30.330336       5.925672  \n",
      "3       8.676876      23.974246  \n",
      "4      13.614549      22.174802  \n"
     ],
     "output_type": "stream"
    }
   ],
   "source": [
    "# initialize\n",
    "# select random starting coordinants\n",
    "first_cc = data1.sample(n = 1)['coord'].values[0]\n",
    "centers = [first_cc]\n",
    "k = 4\n",
    "for k in range(k):\n",
    "    print(k)\n",
    "    temp = []\n",
    "    for index, row in data1.iterrows():\n",
    "        # print(k)\n",
    "        temp.append(distance.euclidean(centers[k], data1.loc[index, 'coord']))\n",
    "        data1[f'cluster{k}_dist'] = pd.DataFrame(temp)\n",
    "        # print(temp.index(max(temp)))\n",
    "    print(centers)\n",
    "    # print(f'this is temp {temp}')\n",
    "    max_index = temp.index(max(temp))\n",
    "    new_center = data1.loc[max_index, 'coord']\n",
    "    # print(f\"this is new center {new_center}\")\n",
    "    while new_center in centers:\n",
    "        temp.remove(temp[max_index])\n",
    "        max_index = temp.index(max(temp))\n",
    "        new_center = data1.loc[max_index, 'coord']\n",
    "        \n",
    "        \n",
    "    centers.append(new_center)\n",
    "\n",
    "\n",
    "    \n",
    "\n",
    "\n",
    "# distance.euclidean(data1.loc[0, 'coord'], data1.loc[1, 'coord'])\n",
    "    \n",
    "\n",
    "print(len(centers))\n",
    "print(data1.head())"
   ],
   "metadata": {
    "collapsed": false,
    "pycharm": {
     "name": "#%% Calculates cluster centers \n",
     "is_executing": false
    }
   }
  },
  {
   "cell_type": "code",
   "execution_count": null,
   "outputs": [],
   "source": [
    "import chart_studio.plotly as py\n",
    "import plotly.graph_objects as go\n",
    "fig = go.Figure(data=[go.Histogram(x=data1.cluster0_dist)])\n",
    "py.iplot(fig, sharing='public', filename='jupyter-styled_bar')"
   ],
   "metadata": {
    "collapsed": false,
    "pycharm": {
     "name": "#%%\n",
     "is_executing": true
    }
   }
  },
  {
   "cell_type": "code",
   "execution_count": null,
   "outputs": [],
   "source": [
    "\n",
    "def furthest_point(data, k):    \n",
    "    print(k)"
   ],
   "metadata": {
    "collapsed": false,
    "pycharm": {
     "name": "#%%\n"
    }
   }
  }
 ],
 "metadata": {
  "kernelspec": {
   "name": "pycharm-1f05f882",
   "language": "python",
   "display_name": "PyCharm (CS6180_Clustering)"
  },
  "language_info": {
   "codemirror_mode": {
    "name": "ipython",
    "version": 2
   },
   "file_extension": ".py",
   "mimetype": "text/x-python",
   "name": "python",
   "nbconvert_exporter": "python",
   "pygments_lexer": "ipython2",
   "version": "2.7.6"
  },
  "pycharm": {
   "stem_cell": {
    "cell_type": "raw",
    "source": [],
    "metadata": {
     "collapsed": false
    }
   }
  }
 },
 "nbformat": 4,
 "nbformat_minor": 0
}