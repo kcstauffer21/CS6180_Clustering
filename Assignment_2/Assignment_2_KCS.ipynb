{
 "cells": [
  {
   "cell_type": "markdown",
   "metadata": {},
   "source": [
    "## Assignment 2:\n",
    "### Visualizing High Dimensional Data\n",
    "#### Kendall Stauffer (U0688677)"
   ]
  },
  {
   "cell_type": "code",
   "execution_count": 16,
   "metadata": {},
   "outputs": [],
   "source": [
    "# importing important libraries\n",
    "import numpy as np\n",
    "import pandas as pd\n",
    "from sklearn.datasets import load_iris"
   ]
  },
  {
   "cell_type": "markdown",
   "metadata": {},
   "source": [
    "### Question 1:\n",
    " - Implement PCA as a function and provide a commented version of it. Feel free to compute eigenvectors, eigenvalues etc. using numpy or other api functionality.\n",
    " - Plot (with a scatter plot) the iris dataset using your PCA implementation. Color each of the species differently. On a separate plot provide a scatter plot of the language api (sklearn) PCA for comparison.\n",
    " - Run K-Means on these results with k=2 and plot the results color according to cluster\n",
    " - Now create an alternate PCA function where you do not center the data. Using a scatter plot, show the results. Again, color each of the species differently.\n",
    " - What is the effect of neglecting to center the data? What type of data would not work well for PCA and why?\n",
    " "
   ]
  },
  {
   "cell_type": "code",
   "execution_count": 129,
   "metadata": {},
   "outputs": [],
   "source": [
    " def compute_PCA(data, scale_data = True):\n",
    "        \"\"\"\n",
    "        Params data: A dataframe or array that contains the data for pca.\n",
    "        Params scale_data: if set to True, data will be scaled with mean center scaling.\n",
    "        Return: Returns a python dictionary that contains the calculated percent variance and decomposed values.\n",
    "        \"\"\"\n",
    "        # if scaled data = True do mean center scaling\n",
    "        if scale_data:\n",
    "            # import mean center scaling\n",
    "            from sklearn.preprocessing import StandardScaler\n",
    "            # initialize the scaler\n",
    "            scaler = StandardScaler()\n",
    "            # fit the data to scaler\n",
    "            scaler.fit(data)\n",
    "            # scale the data\n",
    "            temp = scaler.transform(data)\n",
    "        else:\n",
    "            # don't scale data\n",
    "            temp = data\n",
    "        # calculate covariance matrix\n",
    "        cov = np.cov(temp.transpose())\n",
    "        # calculate eigen vector and values\n",
    "        values, vectors = np.linalg.eig(cov)\n",
    "        # sorting eigen values and vectors by highest eigen value\n",
    "           \n",
    "        # calculate % variance for every value\n",
    "        temp_vals = values.tolist()\n",
    "        percent_variance = [np.round((temp_vals[i]/sum(temp_vals))*100, 2) for i in range(len(temp_vals))]\n",
    "        \n",
    "        # taking the dot product of scaled data by eigenvetors transposed\n",
    "        temp_pca = temp.dot(vectors.transpose())\n",
    "        # making columnames\n",
    "        col_names = [f\"PC_{i}\" for i in range(temp_pca.shape[1])]\n",
    "        # making a pandas dataframe\n",
    "        temp_pca = pd.DataFrame(temp_pca, columns = col_names)\n",
    "        # returning as a python dictionary that contains the percent variation and decomposed data.\n",
    "        temp_final = {'percent_variance': percent_variance,\n",
    "                     'pca': temp_pca}\n",
    "        return temp_final       "
   ]
  },
  {
   "cell_type": "code",
   "execution_count": 137,
   "metadata": {},
   "outputs": [
    {
     "data": {
      "text/html": [
       "<div>\n",
       "<style scoped>\n",
       "    .dataframe tbody tr th:only-of-type {\n",
       "        vertical-align: middle;\n",
       "    }\n",
       "\n",
       "    .dataframe tbody tr th {\n",
       "        vertical-align: top;\n",
       "    }\n",
       "\n",
       "    .dataframe thead th {\n",
       "        text-align: right;\n",
       "    }\n",
       "</style>\n",
       "<table border=\"1\" class=\"dataframe\">\n",
       "  <thead>\n",
       "    <tr style=\"text-align: right;\">\n",
       "      <th></th>\n",
       "      <th>sepal length (cm)</th>\n",
       "      <th>sepal width (cm)</th>\n",
       "      <th>petal length (cm)</th>\n",
       "      <th>petal width (cm)</th>\n",
       "      <th>classes</th>\n",
       "    </tr>\n",
       "  </thead>\n",
       "  <tbody>\n",
       "    <tr>\n",
       "      <th>0</th>\n",
       "      <td>5.1</td>\n",
       "      <td>3.5</td>\n",
       "      <td>1.4</td>\n",
       "      <td>0.2</td>\n",
       "      <td>setosa</td>\n",
       "    </tr>\n",
       "    <tr>\n",
       "      <th>1</th>\n",
       "      <td>4.9</td>\n",
       "      <td>3.0</td>\n",
       "      <td>1.4</td>\n",
       "      <td>0.2</td>\n",
       "      <td>setosa</td>\n",
       "    </tr>\n",
       "    <tr>\n",
       "      <th>2</th>\n",
       "      <td>4.7</td>\n",
       "      <td>3.2</td>\n",
       "      <td>1.3</td>\n",
       "      <td>0.2</td>\n",
       "      <td>setosa</td>\n",
       "    </tr>\n",
       "    <tr>\n",
       "      <th>3</th>\n",
       "      <td>4.6</td>\n",
       "      <td>3.1</td>\n",
       "      <td>1.5</td>\n",
       "      <td>0.2</td>\n",
       "      <td>setosa</td>\n",
       "    </tr>\n",
       "    <tr>\n",
       "      <th>4</th>\n",
       "      <td>5.0</td>\n",
       "      <td>3.6</td>\n",
       "      <td>1.4</td>\n",
       "      <td>0.2</td>\n",
       "      <td>setosa</td>\n",
       "    </tr>\n",
       "  </tbody>\n",
       "</table>\n",
       "</div>"
      ],
      "text/plain": [
       "   sepal length (cm)  sepal width (cm)  petal length (cm)  petal width (cm)  \\\n",
       "0                5.1               3.5                1.4               0.2   \n",
       "1                4.9               3.0                1.4               0.2   \n",
       "2                4.7               3.2                1.3               0.2   \n",
       "3                4.6               3.1                1.5               0.2   \n",
       "4                5.0               3.6                1.4               0.2   \n",
       "\n",
       "  classes  \n",
       "0  setosa  \n",
       "1  setosa  \n",
       "2  setosa  \n",
       "3  setosa  \n",
       "4  setosa  "
      ]
     },
     "execution_count": 137,
     "metadata": {},
     "output_type": "execute_result"
    }
   ],
   "source": [
    "iris = load_iris()\n",
    "df = pd.DataFrame(iris.data, columns = iris.feature_names)\n",
    "df['classes'] = iris.target\n",
    "df.classes = np.where(df.classes ==  0, iris.target_names[0], df.classes)\n",
    "df.classes = np.where(df.classes ==  1, iris.target_names[1], df.classes)\n",
    "df.classes = np.where(df.classes ==  2, iris.target_names[2], df.classes)\n",
    "df.head()\n"
   ]
  },
  {
   "cell_type": "code",
   "execution_count": null,
   "metadata": {},
   "outputs": [],
   "source": [
    "kcs_pca = compute_PCA(df.iloc[:,:-1])\n",
    "kcs_pca.head()"
   ]
  }
 ],
 "metadata": {
  "kernelspec": {
   "display_name": "Python 3",
   "language": "python",
   "name": "python3"
  },
  "language_info": {
   "codemirror_mode": {
    "name": "ipython",
    "version": 3
   },
   "file_extension": ".py",
   "mimetype": "text/x-python",
   "name": "python",
   "nbconvert_exporter": "python",
   "pygments_lexer": "ipython3",
   "version": "3.7.6"
  }
 },
 "nbformat": 4,
 "nbformat_minor": 4
}
